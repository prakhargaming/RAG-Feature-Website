{
 "cells": [
  {
   "cell_type": "code",
   "execution_count": 3,
   "id": "18cb480d",
   "metadata": {},
   "outputs": [],
   "source": [
    "import requests\n",
    "import json\n",
    "import os\n",
    "import base64"
   ]
  },
  {
   "cell_type": "code",
   "execution_count": 4,
   "id": "f5e06c2f",
   "metadata": {},
   "outputs": [],
   "source": [
    "class repo:\n",
    "    def __init__(self, name, url, languages, topics, readme):\n",
    "        self.name = name\n",
    "        self.url = url\n",
    "        self.languages = languages\n",
    "        self.topics = topics\n",
    "        self.readme = readme"
   ]
  },
  {
   "cell_type": "code",
   "execution_count": 5,
   "id": "e83e8530",
   "metadata": {},
   "outputs": [],
   "source": [
    "GITHUB_USERNAME = \"prakhargaming\"\n",
    "GITHUB_TOKEN = os.getenv(\"REPO\")\n",
    "\n",
    "headers = {\n",
    "    \"Authorization\": f\"token {GITHUB_TOKEN}\",\n",
    "    \"Accept\": \"application/vnd.github.v3+json\"\n",
    "}"
   ]
  },
  {
   "cell_type": "code",
   "execution_count": 6,
   "id": "cf725a79",
   "metadata": {},
   "outputs": [],
   "source": [
    "def auto_tag(readme_text, languages) -> list[str]:\n",
    "    tags = []\n",
    "\n",
    "    # Keywords for different skill areas\n",
    "    computer_vision_keywords = [\"opencv\", \"cnn\", \"image\", \"vision\", \"detection\", \"segmentation\", \"recognition\"]\n",
    "    nlp_keywords = [\"bert\", \"transformer\", \"token\", \"nlp\", \"text classification\", \"language model\"]\n",
    "    web_dev_keywords = [\"react\", \"flask\", \"django\", \"express\", \"api\", \"frontend\", \"backend\", \"web app\"]\n",
    "    data_science_keywords = [\"pandas\", \"numpy\", \"dataframe\", \"analysis\", \"plot\", \"visualization\"]\n",
    "    ai_keywords = [\"deep learning\", \"machine learning\", \"reinforcement learning\", \"model\", \"training\"]\n",
    "\n",
    "    text = readme_text.lower()\n",
    "\n",
    "    # Helper function\n",
    "    def contains_any(keywords):\n",
    "        return any(keyword in text for keyword in keywords)\n",
    "\n",
    "    # Tagging based on content\n",
    "    if contains_any(computer_vision_keywords) or 'OpenCV' in languages:\n",
    "        tags.append(\"computer-vision\")\n",
    "    if contains_any(nlp_keywords):\n",
    "        tags.append(\"nlp\")\n",
    "    if contains_any(web_dev_keywords):\n",
    "        tags.append(\"web-development\")\n",
    "    if contains_any(data_science_keywords):\n",
    "        tags.append(\"data-science\")\n",
    "    if contains_any(ai_keywords):\n",
    "        tags.append(\"artificial-intelligence\")\n",
    "\n",
    "    return tags"
   ]
  },
  {
   "cell_type": "code",
   "execution_count": 7,
   "id": "1e1c166e",
   "metadata": {},
   "outputs": [],
   "source": [
    "def fetch_public_repo_information(username: str) -> dict[str, repo]:\n",
    "    repo_url = f\"https://api.github.com/users/{username}/repos\"\n",
    "    request_repo = requests.get(repo_url, headers=headers)\n",
    "    if request_repo.status_code != 200:\n",
    "        print(f\"Request Failed (request_repo): {request_repo.status_code} \\n {repo_url}\")\n",
    "        return request_repo.status_code\n",
    "    data = request_repo.json()\n",
    "    repo_info = {}\n",
    "    for repos in data:\n",
    "        repo_name = repos[\"name\"]\n",
    "        repo_url = repos[\"url\"]\n",
    "        language_url = f\"https://api.github.com/repos/{username}/{repo_name}/languages\"\n",
    "        readme_url = f\"https://api.github.com/repos/{username}/{repo_name}/readme\"\n",
    "\n",
    "        request_languages = requests.get(language_url, headers=headers)\n",
    "        if request_languages.status_code == 200:     \n",
    "            repo_languages = request_languages.json()\n",
    "        else:\n",
    "            print(f\"Request Failed (request_languages): {request_languages.status_code} \\n {language_url}\")\n",
    "            repo_languages = {}\n",
    "\n",
    "        request_readme = requests.get(readme_url, headers=headers)\n",
    "        if request_readme.status_code == 200:\n",
    "            readme_content = request_readme.json()\n",
    "            repo_readme = base64.b64decode(readme_content[\"content\"]).decode('utf-8')\n",
    "        else:\n",
    "            print(f\"Request Failed (request_readme): {request_readme.status_code} \\n {readme_url}\")\n",
    "            repo_readme = \"\"\n",
    "        \n",
    "        repo_info[repo_name] = repo(\n",
    "                                    name=repo_name,\n",
    "                                    url=repo_url,\n",
    "                                    languages=repo_languages,\n",
    "                                    topics=auto_tag(repo_readme, repo_languages),\n",
    "                                    readme=repo_readme\n",
    "                                )\n",
    "\n",
    "    return repo_info"
   ]
  },
  {
   "cell_type": "code",
   "execution_count": 8,
   "id": "7c5b6bb4",
   "metadata": {},
   "outputs": [
    {
     "name": "stdout",
     "output_type": "stream",
     "text": [
      "Request Failed (request_readme): 404 \n",
      " https://api.github.com/repos/prakhargaming/amazonInterview/readme\n",
      "Request Failed (request_readme): 404 \n",
      " https://api.github.com/repos/prakhargaming/Lab-thingy/readme\n",
      "Request Failed (request_readme): 404 \n",
      " https://api.github.com/repos/prakhargaming/musicdiscordplaylistbot/readme\n",
      "Request Failed (request_readme): 404 \n",
      " https://api.github.com/repos/prakhargaming/websocker-react-app/readme\n"
     ]
    }
   ],
   "source": [
    "repos = fetch_public_repo_information(GITHUB_USERNAME)"
   ]
  },
  {
   "cell_type": "code",
   "execution_count": 9,
   "id": "c6103556",
   "metadata": {},
   "outputs": [
    {
     "name": "stdout",
     "output_type": "stream",
     "text": [
      "Directory 'github_repos_info' already exists.\n"
     ]
    }
   ],
   "source": [
    "directory = \"github_repos_info\"\n",
    "\n",
    "try:\n",
    "    os.mkdir(directory)\n",
    "    print(f\"Directory '{directory}' created successfully.\")\n",
    "except FileExistsError:\n",
    "    print(f\"Directory '{directory}' already exists.\")\n",
    "except FileNotFoundError:\n",
    "    print(\"Parent directory does not exist.\")"
   ]
  },
  {
   "cell_type": "code",
   "execution_count": 13,
   "id": "63308206",
   "metadata": {},
   "outputs": [
    {
     "name": "stdout",
     "output_type": "stream",
     "text": [
      "File 'github_repos_info\\REPO_INFO_amazonInterview.txt' created successfully.\n",
      "File 'github_repos_info\\REPO_INFO_Data-Visualization-Web-Dev-Project.txt' created successfully.\n",
      "File 'github_repos_info\\REPO_INFO_FastSAM-needle-biopsy.txt' created successfully.\n",
      "An error occurred: 'charmap' codec can't encode character '\\u0259' in position 1143: character maps to <undefined>\n",
      "File 'github_repos_info\\REPO_INFO_flask-react-template.txt' created successfully.\n",
      "File 'github_repos_info\\REPO_INFO_GenAI_Catagorization_Engine.txt' created successfully.\n",
      "File 'github_repos_info\\REPO_INFO_Lab-thingy.txt' created successfully.\n",
      "File 'github_repos_info\\REPO_INFO_musicdiscordplaylistbot.txt' created successfully.\n",
      "File 'github_repos_info\\REPO_INFO_Neurotech-Davis2022.txt' created successfully.\n",
      "File 'github_repos_info\\REPO_INFO_Neurotech_at_Davis_Robotic_Arm.txt' created successfully.\n",
      "File 'github_repos_info\\REPO_INFO_ntx22-ui.txt' created successfully.\n",
      "File 'github_repos_info\\REPO_INFO_prakhar-website.txt' created successfully.\n",
      "An error occurred: 'charmap' codec can't encode characters in position 276-279: character maps to <undefined>\n",
      "File 'github_repos_info\\REPO_INFO_RAG-Feature-Website.txt' created successfully.\n",
      "File 'github_repos_info\\REPO_INFO_scripta-dashboard.txt' created successfully.\n",
      "File 'github_repos_info\\REPO_INFO_scripta-dashboard-2.txt' created successfully.\n",
      "File 'github_repos_info\\REPO_INFO_scripta-welcome-interface.txt' created successfully.\n",
      "File 'github_repos_info\\REPO_INFO_SimCLR_for_Fast_Learning.txt' created successfully.\n",
      "File 'github_repos_info\\REPO_INFO_transdeeplab-for-needle-biopsy.txt' created successfully.\n",
      "File 'github_repos_info\\REPO_INFO_u_net-for-needle-biopsy.txt' created successfully.\n",
      "An error occurred: 'charmap' codec can't encode character '\\U0001f4da' in position 996: character maps to <undefined>\n",
      "File 'github_repos_info\\REPO_INFO_vidilab-website.txt' created successfully.\n",
      "File 'github_repos_info\\REPO_INFO_websocker-react-app.txt' created successfully.\n"
     ]
    }
   ],
   "source": [
    "for repo_name, repo in repos.items():\n",
    "    file_path = f\"github_repos_info\\\\REPO_INFO_{repo.name}.txt\"\n",
    "    file_contents = f\"\"\"\n",
    "# METADATA\n",
    "Repository name: {repo.name}\n",
    "Repository URL: {repo.url}\n",
    "Repository languages: {repo.languages}\n",
    "Repository topics: {repo.topics}\n",
    "\n",
    "# README:\n",
    "{repo.readme}\"\"\"\n",
    "\n",
    "    try:\n",
    "        with open(file_path, \"w\") as file:\n",
    "            file.write(file_contents)\n",
    "        print(f\"File '{file_path}' created successfully.\")\n",
    "    except Exception as e:\n",
    "        print(f\"An error occurred: {e}\")"
   ]
  }
 ],
 "metadata": {
  "kernelspec": {
   "display_name": "Python 3",
   "language": "python",
   "name": "python3"
  },
  "language_info": {
   "codemirror_mode": {
    "name": "ipython",
    "version": 3
   },
   "file_extension": ".py",
   "mimetype": "text/x-python",
   "name": "python",
   "nbconvert_exporter": "python",
   "pygments_lexer": "ipython3",
   "version": "3.10.11"
  }
 },
 "nbformat": 4,
 "nbformat_minor": 5
}
