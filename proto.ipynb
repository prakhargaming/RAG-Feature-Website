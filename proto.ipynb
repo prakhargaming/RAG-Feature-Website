{
 "cells": [
  {
   "cell_type": "markdown",
   "metadata": {},
   "source": [
    "## Features:\n",
    "- chatting interface (Gemini integration)\n",
    "- rate limiting\n",
    "- RAG \n",
    "  \n",
    "## List of Documents:\n",
    "- All Github Repositories\n",
    "- Resume\n",
    "- Blog Posts\n",
    "- linkedin profile\n",
    "\n",
    "## System Architecture\n",
    "Front-End -> API request to backend -> API talks to MongoDB and asks for most similar documents -> mongo returns documents and adds context to the LLM proopmt -> response is generated on the front-end with a way to access the similar documents.\n",
    "\n",
    "## Steps:\n",
    "1. Get all documents\n",
    "2. Makes vector database\n",
    "3. Go from there lol"
   ]
  },
  {
   "cell_type": "markdown",
   "metadata": {
    "vscode": {
     "languageId": "plaintext"
    }
   },
   "source": [
    "## Code Snippets"
   ]
  },
  {
   "cell_type": "code",
   "execution_count": null,
   "metadata": {},
   "outputs": [],
   "source": [
    "from google import genai\n",
    "from google.genai import types\n",
    "from dotenv import load_dotenv\n",
    "import os\n",
    "\n",
    "load_dotenv()\n",
    "\n",
    "client = genai.Client(os.getenv(\"GEMINI\"))"
   ]
  },
  {
   "cell_type": "markdown",
   "metadata": {},
   "source": [
    "## System Prompt"
   ]
  },
  {
   "cell_type": "code",
   "execution_count": null,
   "metadata": {},
   "outputs": [],
   "source": [
    "system_prompt = \"\"\"You are an AI chatbot that helps users learn about\n",
    "                   Prakhar Sinha, a software engineer specializing in\n",
    "                   AI/ML, Front-End, and BCI projects. You will \n",
    "                   primarily be responding towards recruiters and his\n",
    "                   peers, so make sure you make him look good. \n",
    "                    \n",
    "                   You answer questions about him only using the\n",
    "                   provided context.\"\"\""
   ]
  },
  {
   "cell_type": "code",
   "execution_count": null,
   "metadata": {},
   "outputs": [],
   "source": [
    "import os\n",
    "from google import genai\n",
    "from google.genai import types\n",
    "\n",
    "client = genai.Client()\n",
    "\n",
    "directory = os.fsencode(\"Database\")\n",
    "embeddings = {}\n",
    "    \n",
    "for file in os.listdir(directory):\n",
    "    filename = os.fsdecode(file)\n",
    "    full_file = os.path.join(\"Database\", filename)\n",
    "    try:\n",
    "        with open(full_file, \"r\") as file:\n",
    "            file_content = file.read()\n",
    "    except FileNotFoundError:\n",
    "        print(f\"Error: File not found at {full_file}\")\n",
    "        break\n",
    "\n",
    "    result = client.models.embed_content(\n",
    "        model=\"text-embedding-004\",\n",
    "        contents=file_content,\n",
    "        config=types.EmbedContentConfig(task_type=\"SEMANTIC_SIMILARITY\")\n",
    "    )\n",
    "    \n",
    "    embeddings[full_file] = result.embeddings[0].values"
   ]
  },
  {
   "cell_type": "code",
   "execution_count": 30,
   "metadata": {},
   "outputs": [],
   "source": [
    "from numpy import dot\n",
    "from numpy.linalg import norm\n",
    "\n",
    "query = \"Is prakhar good at web development?\"\n",
    "\n",
    "query_embedding = client.models.embed_content(\n",
    "    model=\"text-embedding-004\",\n",
    "    contents=query,\n",
    "    config=types.EmbedContentConfig(task_type=\"SEMANTIC_SIMILARITY\")\n",
    ")\n",
    "\n",
    "query_embedding_result = query_embedding.embeddings[0].values\n",
    "\n",
    "def cosine(a, b):\n",
    "    return dot(a, b)/(norm(a)*norm(b))"
   ]
  },
  {
   "cell_type": "code",
   "execution_count": 31,
   "metadata": {},
   "outputs": [
    {
     "name": "stdout",
     "output_type": "stream",
     "text": [
      "Database\\Data_vis.md 0.5718105466112045\n",
      "Database\\GenAI_Engine.md 0.5933010918038888\n",
      "Database\\SimCLR.md 0.49612301372435125\n"
     ]
    }
   ],
   "source": [
    "max_sim = float(\"-inf\")\n",
    "que = \"\"\n",
    "for item in embeddings:\n",
    "    embed1 = embeddings[item]\n",
    "    sim = cosine(embed1, query_embedding_result)\n",
    "    if sim > max_sim:\n",
    "        max_sim = sim\n",
    "        que = item\n",
    "    print(item, sim)"
   ]
  },
  {
   "cell_type": "code",
   "execution_count": null,
   "metadata": {},
   "outputs": [],
   "source": [
    "def generate_query(query):\n",
    "    query_embedding = client.models.embed_content(\n",
    "        model=\"text-embedding-004\",\n",
    "        contents=query,\n",
    "        config=types.EmbedContentConfig(task_type=\"SEMANTIC_SIMILARITY\")\n",
    "    )\n",
    "    query_embedding_result = query_embedding.embeddings[0].values\n",
    "    max_sim = float(\"-inf\")\n",
    "    que = \"\"\n",
    "    for item in embeddings:\n",
    "        embed1 = embeddings[item]\n",
    "        sim = cosine(embed1, query_embedding_result)\n",
    "        if sim > max_sim:\n",
    "            max_sim = sim\n",
    "            que = item\n",
    "    \n",
    "    try:\n",
    "        with open(que, \"r\") as file:\n",
    "            context = file.read()\n",
    "    except FileNotFoundError:\n",
    "        print(f\"Error: File not found at {full_file}\")\n",
    "        context = \"\"\n",
    "    \n",
    "    \n",
    "    return f\"Context: {context} \\n\" + query"
   ]
  },
  {
   "cell_type": "code",
   "execution_count": null,
   "metadata": {},
   "outputs": [],
   "source": [
    "question = \"Is Prakhar good at computer vision?\"\n",
    "\n",
    "query = generate_query(question)\n",
    "\n",
    "response = client.models.generate_content(\n",
    "    model='gemini-2.0-flash-lite',\n",
    "    contents=query,\n",
    "    config=types.GenerateContentConfig(\n",
    "        system_instruction=system_prompt),\n",
    ")"
   ]
  },
  {
   "cell_type": "code",
   "execution_count": 46,
   "metadata": {},
   "outputs": [
    {
     "name": "stdout",
     "output_type": "stream",
     "text": [
      "Yes, Prakhar demonstrates strong skills in computer vision. He fine-tuned a SimCLR model for a firefighting device detection dataset, achieving an accuracy of approximately 0.8. He also modified the SimCLR image transformation pipeline, specializing it for the specific task, demonstrating a good understanding of how to tailor models for optimal performance.\n",
      "\n"
     ]
    }
   ],
   "source": [
    "print(response.text)"
   ]
  }
 ],
 "metadata": {
  "kernelspec": {
   "display_name": "Python 3",
   "language": "python",
   "name": "python3"
  },
  "language_info": {
   "codemirror_mode": {
    "name": "ipython",
    "version": 3
   },
   "file_extension": ".py",
   "mimetype": "text/x-python",
   "name": "python",
   "nbconvert_exporter": "python",
   "pygments_lexer": "ipython3",
   "version": "3.10.11"
  }
 },
 "nbformat": 4,
 "nbformat_minor": 2
}
